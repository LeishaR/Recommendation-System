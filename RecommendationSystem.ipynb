{
  "cells": [
    {
      "cell_type": "markdown",
      "metadata": {
        "id": "view-in-github",
        "colab_type": "text"
      },
      "source": [
        "<a href=\"https://colab.research.google.com/github/LeishaR/Recommendation-System/blob/main/RecommendationSystem.ipynb\" target=\"_parent\"><img src=\"https://colab.research.google.com/assets/colab-badge.svg\" alt=\"Open In Colab\"/></a>"
      ]
    },
    {
      "cell_type": "code",
      "execution_count": null,
      "metadata": {
        "colab": {
          "base_uri": "https://localhost:8080/"
        },
        "id": "dZAQuzfv9YGv",
        "outputId": "20303717-a577-44c4-9f72-3df00ba8569e"
      },
      "outputs": [
        {
          "output_type": "stream",
          "name": "stdout",
          "text": [
            "Drive already mounted at /content/gdrive; to attempt to forcibly remount, call drive.mount(\"/content/gdrive\", force_remount=True).\n",
            "Top 5 recommended items for the new user: [9723 3246 3244 3243 3242]\n"
          ]
        }
      ],
      "source": [
        "import pandas as pd\n",
        "import numpy as np\n",
        "from sklearn.metrics.pairwise import cosine_similarity\n",
        "from google.colab import drive\n",
        "drive.mount('/content/gdrive')\n",
        "ratings = pd.read_csv(\"gdrive/My Drive/ratings.csv\")\n",
        "# create a user-item matrix\n",
        "user_item_matrix = ratings.pivot_table(index='userId', columns='movieId', values='rating')\n",
        "\n",
        "# calculate the mean rating for each user and subtract it from the ratings\n",
        "user_means = np.mean(user_item_matrix, axis=1)\n",
        "user_item_matrix_norm = user_item_matrix.sub(user_means, axis=0)\n",
        "\n",
        "# create a new user's ratings vector with zeros for all unrated items\n",
        "new_user_ratings = np.zeros(user_item_matrix_norm.shape[1])\n",
        "new_user_ratings[[1, 5, 12]] = [4, 5, 3] # set ratings for a few item[].\n",
        "\n",
        "# normalize the new user's ratings\n",
        "new_user_ratings_norm = new_user_ratings - np.mean(new_user_ratings)\n",
        "\n",
        "# calculate the cosine similarity between users\n",
        "user_sim = np.dot(user_item_matrix_norm, user_item_matrix_norm.T) / (np.linalg.norm(user_item_matrix_norm, axis=1)[:, np.newaxis] * np.linalg.norm(user_item_matrix_norm, axis=1))\n",
        "\n",
        "# predict ratings for the new user\n",
        "user_sim_new = np.dot(user_item_matrix_norm, new_user_ratings_norm) / (np.linalg.norm(user_item_matrix_norm, axis=1) * np.linalg.norm(new_user_ratings_norm))\n",
        "new_user_predicted_ratings = np.dot(user_sim_new, user_item_matrix) / np.sum(np.abs(user_sim_new))\n",
        "\n",
        "# find the top-k recommended items\n",
        "k = 5\n",
        "top_k_items = np.argsort(new_user_predicted_ratings)[::-1][:k]\n",
        "print(\"Top\", k, \"recommended items for the new user:\", top_k_items)"
      ]
    },
    {
      "cell_type": "code",
      "source": [],
      "metadata": {
        "id": "Azs1vqMu2eet"
      },
      "execution_count": null,
      "outputs": []
    }
  ],
  "metadata": {
    "colab": {
      "provenance": [],
      "authorship_tag": "ABX9TyOQv6iHjs8JC5WdV1+9HrFH",
      "include_colab_link": true
    },
    "kernelspec": {
      "display_name": "Python 3",
      "name": "python3"
    },
    "language_info": {
      "name": "python"
    }
  },
  "nbformat": 4,
  "nbformat_minor": 0
}